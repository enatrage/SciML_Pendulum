{
 "cells": [
  {
   "cell_type": "markdown",
   "id": "48192841",
   "metadata": {},
   "source": [
    "Here, we generate dampened SHM data"
   ]
  },
  {
   "cell_type": "code",
   "execution_count": null,
   "id": "1e92b586",
   "metadata": {},
   "outputs": [],
   "source": [
    "%load_ext autoreload\n",
    "%autoreload 2"
   ]
  },
  {
   "cell_type": "code",
   "execution_count": 8,
   "id": "25c3d059",
   "metadata": {},
   "outputs": [],
   "source": [
    "import sys\n",
    "from pathlib import Path\n",
    "project_root = Path.cwd().resolve().parents[1]\n",
    "sys.path.append(str(project_root))\n",
    "\n",
    "from data_generation.osc import *"
   ]
  },
  {
   "cell_type": "code",
   "execution_count": null,
   "id": "7d6bbde4",
   "metadata": {},
   "outputs": [],
   "source": []
  }
 ],
 "metadata": {
  "kernelspec": {
   "display_name": "Python (pip)",
   "language": "python",
   "name": "pip-torch"
  },
  "language_info": {
   "codemirror_mode": {
    "name": "ipython",
    "version": 3
   },
   "file_extension": ".py",
   "mimetype": "text/x-python",
   "name": "python",
   "nbconvert_exporter": "python",
   "pygments_lexer": "ipython3",
   "version": "3.13.3"
  }
 },
 "nbformat": 4,
 "nbformat_minor": 5
}
